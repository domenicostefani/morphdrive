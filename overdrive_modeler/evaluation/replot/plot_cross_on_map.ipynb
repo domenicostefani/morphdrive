{
 "cells": [
  {
   "cell_type": "markdown",
   "id": "06aed9b3",
   "metadata": {},
   "source": [
    "# Plot cross on Heatmap\n",
    "This notebook loads a heatmap and plots a cross on a desired location.  \n",
    "Locations are defined with X an Y in a [0,1] range.  \n",
    "Pixel location for the corners of the actual map are found via trial and error and saved in the arguments xrange and yrange.  "
   ]
  },
  {
   "cell_type": "code",
   "execution_count": null,
   "id": "544e9f33",
   "metadata": {},
   "outputs": [],
   "source": [
    "import matplotlib.pyplot as plt\n",
    "import numpy as np\n",
    "\n",
    "IMAGE = 'heatmaps_2025-03-18_11-48_thd.png'\n",
    "\n",
    "\n",
    "def plot_point_on_heatmap(x,y, imgpath, xrange = [0.06,0.805], yrange = [0.077,0.925]):\n",
    "    # Set image as backgroud to a figure\n",
    "    img = plt.imread(imgpath)\n",
    "\n",
    "    imgwidth = img.shape[1]\n",
    "    imgheight = img.shape[0]\n",
    "    fig, ax = plt.subplots(figsize=(5, 5/imgwidth*imgheight), dpi=100)\n",
    "\n",
    "    plt.imshow(img, aspect='auto', extent=[0, 1, 0, 1], zorder=0)\n",
    "    plt.axis('off')\n",
    "    plt.xlim(0, 1)\n",
    "    plt.ylim(0, 1)\n",
    "    plt.xticks([])\n",
    "    plt.yticks([])\n",
    "    plt.grid(False)\n",
    "    plt.tight_layout()\n",
    "    plt.gca().set_axis_off()\n",
    "    plt.gca().set_frame_on(False)\n",
    "    plt.gca().patch.set_alpha(0.0)\n",
    "\n",
    "    coord_to_plot = lambda x,y: (xrange[0] + (xrange[1]-xrange[0]) * x, yrange[0] + (yrange[1]-yrange[0]) * y)\n",
    "    plotx, ploty = coord_to_plot(x,y)\n",
    "    # Plot a circle (scatter) at 0.5, 0.5\n",
    "    ax.scatter(plotx, ploty, s=220, c='red', linewidth=2, zorder=1, marker='x')\n",
    "\n",
    "interesting_points = [\n",
    "    (0.8, 0.3),  # Typhoon\n",
    "    (0.4, 0.6),  # Pit\n",
    "    (0.2, 0.1),  # bottom left\n",
    "    (0.9, 0.1),  # bottom right\n",
    "    (0.7, 0.8),  # boh\n",
    "]\n",
    "\n",
    "for x, y in interesting_points:\n",
    "    plot_point_on_heatmap(x, y, IMAGE)\n",
    "    plt.savefig(f'heatmap_point_{x}_{y}.png', dpi=300, bbox_inches='tight')"
   ]
  }
 ],
 "metadata": {
  "kernelspec": {
   "display_name": "env",
   "language": "python",
   "name": "python3"
  },
  "language_info": {
   "codemirror_mode": {
    "name": "ipython",
    "version": 3
   },
   "file_extension": ".py",
   "mimetype": "text/x-python",
   "name": "python",
   "nbconvert_exporter": "python",
   "pygments_lexer": "ipython3",
   "version": "3.12.9"
  }
 },
 "nbformat": 4,
 "nbformat_minor": 5
}
