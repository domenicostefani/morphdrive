{
 "cells": [
  {
   "cell_type": "code",
   "execution_count": 2,
   "metadata": {},
   "outputs": [],
   "source": [
    "import pandas as pd\n",
    "\n",
    "normlog = pd.read_csv('normalization_summary.csv')"
   ]
  },
  {
   "cell_type": "code",
   "execution_count": 8,
   "metadata": {},
   "outputs": [
    {
     "name": "stdout",
     "output_type": "stream",
     "text": [
      "Min applied gain -2.06\n",
      "Max applied gain 1.51\n",
      "Mean applied gain 0.21592592592592585\n",
      "Std applied gain 0.8653156794322088\n"
     ]
    }
   ],
   "source": [
    "print('Min applied gain', normlog['appied_gain_db_mean'].min())\n",
    "print('Max applied gain', normlog['appied_gain_db_mean'].max())\n",
    "print('Mean applied gain', normlog['appied_gain_db_mean'].mean())\n",
    "print('Std applied gain', normlog['appied_gain_db_mean'].std())"
   ]
  }
 ],
 "metadata": {
  "kernelspec": {
   "display_name": "env",
   "language": "python",
   "name": "python3"
  },
  "language_info": {
   "codemirror_mode": {
    "name": "ipython",
    "version": 3
   },
   "file_extension": ".py",
   "mimetype": "text/x-python",
   "name": "python",
   "nbconvert_exporter": "python",
   "pygments_lexer": "ipython3",
   "version": "3.8.10"
  }
 },
 "nbformat": 4,
 "nbformat_minor": 2
}
